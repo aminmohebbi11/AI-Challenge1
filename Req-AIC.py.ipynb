{
 "cells": [
  {
   "cell_type": "code",
   "execution_count": 24,
   "id": "603622b4",
   "metadata": {},
   "outputs": [
    {
     "name": "stdout",
     "output_type": "stream",
     "text": [
      "Status Code: 200, Response: {'message': 'Congratulations! Achieved Mission 3'}\n"
     ]
    }
   ],
   "source": [
    "import requests\n",
    "r = requests.post('https://dps-challenge.netlify.app/.netlify/functions/api/challenge', json={\n",
    "    \"github\":\"https://github.com/aminmohebbi11/AI-Challenge1\",\n",
    "    \"email\":\"aminmohebbi2000@gmail.com\",\n",
    "    \"url\":\"https://flask-codes.herokuapp.com/\",\n",
    "    #\"url\":\"https://ai-challenge-am.herokuapp.com/\" ,\n",
    "    \"notes\":\" first, I deployed my ML model on Flask and created an application on the flask and then tried using Heroku to deploy the model for public\" \n",
    "})\n",
    "print(f\"Status Code: {r.status_code}, Response: {r.json()}\")\n",
    "\n",
    "\n",
    "\n",
    "\n"
   ]
  },
  {
   "cell_type": "code",
   "execution_count": null,
   "id": "da478b8c",
   "metadata": {},
   "outputs": [],
   "source": []
  }
 ],
 "metadata": {
  "kernelspec": {
   "display_name": "Python 3",
   "language": "python",
   "name": "python3"
  },
  "language_info": {
   "codemirror_mode": {
    "name": "ipython",
    "version": 3
   },
   "file_extension": ".py",
   "mimetype": "text/x-python",
   "name": "python",
   "nbconvert_exporter": "python",
   "pygments_lexer": "ipython3",
   "version": "3.8.8"
  }
 },
 "nbformat": 4,
 "nbformat_minor": 5
}
