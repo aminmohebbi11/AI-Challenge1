{
 "cells": [
  {
   "cell_type": "markdown",
   "id": "26c3ee40",
   "metadata": {},
   "source": [
    "# Libraries"
   ]
  },
  {
   "cell_type": "code",
   "execution_count": 1,
   "id": "f4738569",
   "metadata": {},
   "outputs": [],
   "source": [
    "#Import libraries \n",
    "import numpy as np\n",
    "from flask import Flask , request , jsonify , render_template\n",
    "import pickle"
   ]
  },
  {
   "cell_type": "markdown",
   "id": "8e7e47cb",
   "metadata": {},
   "source": [
    "# Flask Application"
   ]
  },
  {
   "cell_type": "code",
   "execution_count": 2,
   "id": "4c85e9a8",
   "metadata": {},
   "outputs": [],
   "source": [
    "#Create Flask aapplication \n",
    "app = Flask(__name__)\n",
    "\n",
    "#Load the Pickle model\n",
    "model =  pickle.load(open('pred_model.pkl', 'rb'))\n"
   ]
  },
  {
   "cell_type": "code",
   "execution_count": null,
   "id": "861f1a90",
   "metadata": {},
   "outputs": [
    {
     "name": "stdout",
     "output_type": "stream",
     "text": [
      " * Serving Flask app \"__main__\" (lazy loading)\n",
      " * Environment: production\n",
      "   WARNING: This is a development server. Do not use it in a production deployment.\n",
      "   Use a production WSGI server instead.\n",
      " * Debug mode: on\n"
     ]
    },
    {
     "name": "stderr",
     "output_type": "stream",
     "text": [
      " * Running on http://127.0.0.1:5000/ (Press CTRL+C to quit)\n",
      "127.0.0.1 - - [12/Dec/2022 02:50:51] \"\u001b[37mPOST /predict HTTP/1.1\u001b[0m\" 200 -\n"
     ]
    }
   ],
   "source": [
    "#Create Home Page\n",
    "\n",
    "@app.route('/', endpoint = 'Home1')\n",
    "#Create function for home \n",
    "def Home1():\n",
    "    return render_template('index.html' )\n",
    "\n",
    "#Define Predict method\n",
    "#Since we want to recieve data,we use POST method\n",
    "\n",
    "@app.route('/predict' , methods = ['POST'])\n",
    "def predict():\n",
    "    float_features = [int(x) for x in request.form.values()]\n",
    "    features = [np.array(float_features)]\n",
    "    prediction = model.predict(features)\n",
    "    \n",
    "    return render_template('index.html' , prediction_text = 'The value is {}'.format(prediction))\n",
    "\n",
    "if __name__ == '__main__':\n",
    "    app.run(debug= True, use_reloader=False)\n",
    "    "
   ]
  },
  {
   "cell_type": "code",
   "execution_count": null,
   "id": "0de08ac3",
   "metadata": {},
   "outputs": [],
   "source": []
  },
  {
   "cell_type": "code",
   "execution_count": null,
   "id": "4a70a5c8",
   "metadata": {},
   "outputs": [],
   "source": []
  }
 ],
 "metadata": {
  "kernelspec": {
   "display_name": "Python 3",
   "language": "python",
   "name": "python3"
  },
  "language_info": {
   "codemirror_mode": {
    "name": "ipython",
    "version": 3
   },
   "file_extension": ".py",
   "mimetype": "text/x-python",
   "name": "python",
   "nbconvert_exporter": "python",
   "pygments_lexer": "ipython3",
   "version": "3.8.8"
  }
 },
 "nbformat": 4,
 "nbformat_minor": 5
}
